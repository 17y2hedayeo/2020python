{
  "nbformat": 4,
  "nbformat_minor": 0,
  "metadata": {
    "colab": {
      "name": "2020 Python Programming Practical 4.ipynb",
      "provenance": [],
      "collapsed_sections": [],
      "include_colab_link": true
    },
    "kernelspec": {
      "name": "python3",
      "display_name": "Python 3"
    }
  },
  "cells": [
    {
      "cell_type": "markdown",
      "metadata": {
        "id": "view-in-github",
        "colab_type": "text"
      },
      "source": [
        "<a href=\"https://colab.research.google.com/github/killuen/2020python/blob/master/2020_Python_Programming_Practical_4.ipynb\" target=\"_parent\"><img src=\"https://colab.research.google.com/assets/colab-badge.svg\" alt=\"Open In Colab\"/></a>"
      ]
    },
    {
      "cell_type": "markdown",
      "metadata": {
        "id": "jp3BkDml8xiR",
        "colab_type": "text"
      },
      "source": [
        "# **2020 Python Programming Practical 4**\n",
        "\n",
        "If you do not have one already, create a [GitHub](https://github.com) account using your DHS Mail.\n",
        "\n",
        "Create a public repository 2020python\n",
        "\n",
        "File --> Save a copy in GitHub under your 2020python repository\n",
        "\n",
        "Also share this colab file with edit access with computing@dhs.sg\n",
        "\n"
      ]
    },
    {
      "cell_type": "markdown",
      "metadata": {
        "id": "-U8w0oQW9P_b",
        "colab_type": "text"
      },
      "source": [
        "**Q1. (Summing series 1)**  \n",
        "Write a recursive function sum_series1(i) to compute the following series:   \n",
        "m(i) = 1 + ½ + ⅓ + … + 1/i\n"
      ]
    },
    {
      "cell_type": "code",
      "metadata": {
        "id": "D0uTR7B-8qbF",
        "colab_type": "code",
        "colab": {
          "base_uri": "https://localhost:8080/",
          "height": 35
        },
        "outputId": "097187a1-0d47-428d-fe09-ed740c51df4e"
      },
      "source": [
        "def sum_series1(i):\n",
        "  if i == 1:\n",
        "    return 1\n",
        "  else:\n",
        "    return 1 / i + sum_series1(i-1)\n",
        "\n",
        "# main\n",
        "sum_series1(5)"
      ],
      "execution_count": 28,
      "outputs": [
        {
          "output_type": "execute_result",
          "data": {
            "text/plain": [
              "2.283333333333333"
            ]
          },
          "metadata": {
            "tags": []
          },
          "execution_count": 28
        }
      ]
    },
    {
      "cell_type": "markdown",
      "metadata": {
        "id": "7Ui5CuS_9Za1",
        "colab_type": "text"
      },
      "source": [
        "**Q2. (Summing series 2)**  \n",
        "Write a recursive function sum_series2(i) to compute the following series:   \n",
        "m(i) = ⅓ + ⅖ + 3/7 + 4/9 + 5/11 + 6/13 + … + i/(2i+1)\n"
      ]
    },
    {
      "cell_type": "code",
      "metadata": {
        "id": "CfkRAAWV9cXS",
        "colab_type": "code",
        "colab": {
          "base_uri": "https://localhost:8080/",
          "height": 35
        },
        "outputId": "0c9b8b69-7118-4090-e0af-68c62d2fa389"
      },
      "source": [
        "def sum_series2(i):\n",
        "  if i == 0:\n",
        "    return 0\n",
        "  else:\n",
        "    return i / ((2 * i) + 1) + sum_series2(i-1)\n",
        "\n",
        "# main\n",
        "sum_series2(5)"
      ],
      "execution_count": 32,
      "outputs": [
        {
          "output_type": "execute_result",
          "data": {
            "text/plain": [
              "2.060894660894661"
            ]
          },
          "metadata": {
            "tags": []
          },
          "execution_count": 32
        }
      ]
    },
    {
      "cell_type": "markdown",
      "metadata": {
        "id": "aVhHiT8w9c7d",
        "colab_type": "text"
      },
      "source": [
        "**Q3. (Computing GCD)**  \n",
        "The greatest common divisor (GCD) of two positive integers m and n, gcd(m, n) can be defined recursively as follows:  \n",
        "\n",
        "If m % n is 0, gcd(m, n) is n.  \n",
        "Otherwise, gcd(m, n) is gcd(n, m % n).  \n",
        "\n",
        "Write a recursive function gcd(m, n) to find the GCD. Write a test program that computes gcd(24, 16) and gcd(255, 25)."
      ]
    },
    {
      "cell_type": "code",
      "metadata": {
        "id": "PwRmweEa9fny",
        "colab_type": "code",
        "outputId": "2818aa75-8008-4305-e7ea-4b42a8da6a0c",
        "colab": {
          "base_uri": "https://localhost:8080/",
          "height": 52
        }
      },
      "source": [
        "def gcd(m,n):\n",
        "  if m % n == 0: # terminating case\n",
        "    return n\n",
        "  else:\n",
        "    return gcd(n,m%n)\n",
        "\n",
        "# main\n",
        "print(gcd(24,16))\n",
        "print(gcd(255,25))"
      ],
      "execution_count": 0,
      "outputs": [
        {
          "output_type": "stream",
          "text": [
            "8\n",
            "5\n"
          ],
          "name": "stdout"
        }
      ]
    },
    {
      "cell_type": "markdown",
      "metadata": {
        "colab_type": "text",
        "id": "wWe4kRS8ZmwP"
      },
      "source": [
        "**Q4. (Reverse the digits in an integer)**  \n",
        "Write a recursive function reverse_int(n) that reverses the digits of an integer n: \n",
        "\n",
        "For example, reverse_int(12345) displays 54321."
      ]
    },
    {
      "cell_type": "code",
      "metadata": {
        "id": "aOozTwoR9j9B",
        "colab_type": "code",
        "outputId": "7ba2872a-dbc4-4f05-b1bd-3412588c3b88",
        "colab": {
          "base_uri": "https://localhost:8080/",
          "height": 35
        }
      },
      "source": [
        "from math import log\n",
        "\n",
        "def reverse_int(n):\n",
        "  if n < 10: # single digit\n",
        "    return n # terminating case\n",
        "  else:      # recursive case(shift current last digit to front + reverse_int(remaining digits))\n",
        "    return (n % 10) * (10 ** int(log(n,10))) + reverse_int(n//10)\n",
        "\n",
        "# main\n",
        "reverse_int(3456)"
      ],
      "execution_count": 10,
      "outputs": [
        {
          "output_type": "execute_result",
          "data": {
            "text/plain": [
              "6543"
            ]
          },
          "metadata": {
            "tags": []
          },
          "execution_count": 10
        }
      ]
    },
    {
      "cell_type": "code",
      "metadata": {
        "id": "BnExejQr-Alf",
        "colab_type": "code",
        "colab": {
          "base_uri": "https://localhost:8080/",
          "height": 35
        },
        "outputId": "ad6b2573-b5a5-4dd9-8962-e941d843d5e4"
      },
      "source": [
        "def invert(str1):\n",
        "  if len(str1) == 1:\n",
        "    return str1\n",
        "  else:\n",
        "    return str1[-1] + invert(str1[0:-1])\n",
        "\n",
        "def invert_num(n):\n",
        "  return int(invert(str(n)))\n",
        "\n",
        "# main\n",
        "invert_num(3456)\n"
      ],
      "execution_count": 26,
      "outputs": [
        {
          "output_type": "execute_result",
          "data": {
            "text/plain": [
              "6543"
            ]
          },
          "metadata": {
            "tags": []
          },
          "execution_count": 26
        }
      ]
    },
    {
      "cell_type": "code",
      "metadata": {
        "id": "6apuS4XP_KPC",
        "colab_type": "code",
        "colab": {
          "base_uri": "https://localhost:8080/",
          "height": 35
        },
        "outputId": "83ba50ae-00e7-458c-f730-127af9ebc106"
      },
      "source": [
        "x = \"Happy\"\n",
        "x[0:-1]"
      ],
      "execution_count": 20,
      "outputs": [
        {
          "output_type": "execute_result",
          "data": {
            "text/plain": [
              "'Happ'"
            ]
          },
          "metadata": {
            "tags": []
          },
          "execution_count": 20
        }
      ]
    },
    {
      "cell_type": "code",
      "metadata": {
        "id": "OWA4JL_r3i3n",
        "colab_type": "code",
        "colab": {}
      },
      "source": [
        "def reverse_int(n):\n",
        "  if n < 10: # single digit\n",
        "    return n # terminating case\n",
        "  else: # recursive case(shift current last digit to front + reverse_int(remaining digits))\n",
        "    print(n % 10, end='')\n",
        "    return (reverse_int(n//10))\n",
        "\n",
        "# main\n",
        "reverse_int(3456)"
      ],
      "execution_count": 0,
      "outputs": []
    },
    {
      "cell_type": "markdown",
      "metadata": {
        "id": "lE0ScX9e9kcg",
        "colab_type": "text"
      },
      "source": [
        "**Q5. (Occurrences of a specified character in a string)**  \n",
        "Write a recursive function count_letter(str, ch) that finds the number of occurrences of a specified letter ch in a string str: \n",
        "\n",
        "For example, count_letter(\"Welcome\", 'e') returns 2."
      ]
    },
    {
      "cell_type": "code",
      "metadata": {
        "id": "sE_bxwDs9mf6",
        "colab_type": "code",
        "colab": {
          "base_uri": "https://localhost:8080/",
          "height": 35
        },
        "outputId": "2c8006d4-021e-4079-b4bc-0485a908d06e"
      },
      "source": [
        "def count_letter(str1, ch):\n",
        "  if ch not in str1:\n",
        "    return 0\n",
        "  else:\n",
        "    if str1[0] == ch:\n",
        "      return 1 + count_letter(str1[1::], ch)\n",
        "    else:\n",
        "      return 0 + count_letter(str1[1::], ch)\n",
        "\n",
        "# main\n",
        "count_letter(\"Welcomeo\",\"e\")"
      ],
      "execution_count": 69,
      "outputs": [
        {
          "output_type": "execute_result",
          "data": {
            "text/plain": [
              "2"
            ]
          },
          "metadata": {
            "tags": []
          },
          "execution_count": 69
        }
      ]
    },
    {
      "cell_type": "markdown",
      "metadata": {
        "id": "KSviQY0T9m7Q",
        "colab_type": "text"
      },
      "source": [
        "**Q6. (Summing the digits in an integer)**  \n",
        "Write a recursive function sum_digits(n) that computes the sum of the digits in an integer n: \n",
        "\n",
        "For example, sum_digits(234) returns 9."
      ]
    },
    {
      "cell_type": "code",
      "metadata": {
        "id": "YbH9Pbul9rK-",
        "colab_type": "code",
        "colab": {
          "base_uri": "https://localhost:8080/",
          "height": 35
        },
        "outputId": "5004cc7c-32ee-4ebd-cb0a-a4cfe4fdfe95"
      },
      "source": [
        "def sum_digits(n):\n",
        "  if n == 0:\n",
        "    return 0\n",
        "  else:\n",
        "    return n % 10 + sum_digits(n // 10)\n",
        "\n",
        "# main\n",
        "sum_digits(234)"
      ],
      "execution_count": 36,
      "outputs": [
        {
          "output_type": "execute_result",
          "data": {
            "text/plain": [
              "9"
            ]
          },
          "metadata": {
            "tags": []
          },
          "execution_count": 36
        }
      ]
    },
    {
      "cell_type": "markdown",
      "metadata": {
        "id": "V9Z95nlg97e4",
        "colab_type": "text"
      },
      "source": [
        "**Q7. (Finding the largest number in an array)**  \n",
        "Write a recursive function find_largest(alist) that returns the largest integer in an array alist.  \n",
        "\n",
        "For example, given alist = [5, 1, 8, 7, 2], sum_digits(alist) returns 8.\n",
        "\n"
      ]
    },
    {
      "cell_type": "code",
      "metadata": {
        "id": "1AZvvAW499PK",
        "colab_type": "code",
        "colab": {
          "base_uri": "https://localhost:8080/",
          "height": 35
        },
        "outputId": "c407e8d1-cc21-4125-97c5-330a8ae29590"
      },
      "source": [
        "def find_largest(alist):\n",
        "  if len(alist) == 1:\n",
        "    return alist[0]\n",
        "  else:\n",
        "    blist = alist\n",
        "    del blist[0]\n",
        "    b = find_largest(blist)\n",
        "    if alist[0] > b:\n",
        "      return alist[0]\n",
        "    else:\n",
        "      return b\n",
        "\n",
        "\n",
        "\n",
        "# main\n",
        "find_largest([3,2,5,8])\n",
        "\n"
      ],
      "execution_count": 49,
      "outputs": [
        {
          "output_type": "execute_result",
          "data": {
            "text/plain": [
              "8"
            ]
          },
          "metadata": {
            "tags": []
          },
          "execution_count": 49
        }
      ]
    },
    {
      "cell_type": "code",
      "metadata": {
        "id": "JH9o8egHR06A",
        "colab_type": "code",
        "colab": {
          "base_uri": "https://localhost:8080/",
          "height": 35
        },
        "outputId": "fc565c00-d0ab-4b25-e539-398d6940bded"
      },
      "source": [
        "def find_largest(alist):\n",
        "  if len(alist) == 1:\n",
        "    return alist[0]\n",
        "  else:\n",
        "    if alist[0] > find_largest(alist[1::]):\n",
        "      return alist[0]\n",
        "    else:\n",
        "      return find_largest(alist[1::])\n",
        "\n",
        "\n",
        "\n",
        "# main\n",
        "find_largest([3,2,5,8])\n"
      ],
      "execution_count": 61,
      "outputs": [
        {
          "output_type": "execute_result",
          "data": {
            "text/plain": [
              "8"
            ]
          },
          "metadata": {
            "tags": []
          },
          "execution_count": 61
        }
      ]
    },
    {
      "cell_type": "markdown",
      "metadata": {
        "colab_type": "text",
        "id": "KNHIvXFleFFH"
      },
      "source": [
        "**Q8. (Finding the number of uppercase letters in a string)**  \n",
        "Write a recursive function find_num_uppercase(str) to return the number of uppercase letters in a string str.\n",
        "\n",
        "For example, find_num_uppercase('Good MorninG!') returns 3.\n",
        "\n"
      ]
    },
    {
      "cell_type": "code",
      "metadata": {
        "id": "-CZ0M7j6eHQe",
        "colab_type": "code",
        "colab": {
          "base_uri": "https://localhost:8080/",
          "height": 35
        },
        "outputId": "ff7e65c6-5686-4dde-cc9c-413b47c877d1"
      },
      "source": [
        "def find_num_uppercase(str1):\n",
        "  if len(str1) == 1:\n",
        "    if str1.isupper() == True:\n",
        "      return 1\n",
        "    else:\n",
        "      return 0\n",
        "  else:\n",
        "    if str1[0].isupper() == True:\n",
        "      return 1 + find_num_uppercase(str1[1::])\n",
        "    else:\n",
        "      return 0 + find_num_uppercase(str1[1::])\n",
        "\n",
        "# main\n",
        "find_num_uppercase(\"Good MorNinG\")\n"
      ],
      "execution_count": 64,
      "outputs": [
        {
          "output_type": "execute_result",
          "data": {
            "text/plain": [
              "4"
            ]
          },
          "metadata": {
            "tags": []
          },
          "execution_count": 64
        }
      ]
    }
  ]
}