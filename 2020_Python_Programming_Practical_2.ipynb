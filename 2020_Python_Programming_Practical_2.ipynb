{
  "nbformat": 4,
  "nbformat_minor": 0,
  "metadata": {
    "colab": {
      "name": "2020 Python Programming Practical 2.ipynb",
      "provenance": [],
      "collapsed_sections": [],
      "toc_visible": true,
      "include_colab_link": true
    },
    "kernelspec": {
      "name": "python3",
      "display_name": "Python 3"
    }
  },
  "cells": [
    {
      "cell_type": "markdown",
      "metadata": {
        "id": "view-in-github",
        "colab_type": "text"
      },
      "source": [
        "<a href=\"https://colab.research.google.com/github/killuen/2020python/blob/master/2020_Python_Programming_Practical_2.ipynb\" target=\"_parent\"><img src=\"https://colab.research.google.com/assets/colab-badge.svg\" alt=\"Open In Colab\"/></a>"
      ]
    },
    {
      "cell_type": "markdown",
      "metadata": {
        "id": "jp3BkDml8xiR",
        "colab_type": "text"
      },
      "source": [
        "# **2020 Python Programming Practical 2**\n",
        "\n",
        "If you do not have one already, create a [GitHub](https://github.com) account using your DHS Mail.\n",
        "\n",
        "Create a public repository 2020python\n",
        "\n",
        "File --> Save a copy in GitHub under your 2020python repository\n",
        "\n",
        "Also share this colab file with edit access with computing@dhs.sg\n",
        "\n"
      ]
    },
    {
      "cell_type": "markdown",
      "metadata": {
        "id": "-U8w0oQW9P_b",
        "colab_type": "text"
      },
      "source": [
        "**Q1. (Check if number is odd or even)**\n",
        "\n",
        "Write a program that reads an integer and checks whether it is odd or even. \n",
        "\n",
        "Sample interaction:\n",
        "```\n",
        "Enter number: 25\n",
        "25 is odd\n",
        "\n",
        "Enter number: 8\n",
        "8 is even\n",
        "\n",
        "```"
      ]
    },
    {
      "cell_type": "code",
      "metadata": {
        "id": "D0uTR7B-8qbF",
        "colab_type": "code",
        "outputId": "85777c62-eb91-4ad6-c1a8-9d565f68da93",
        "colab": {
          "base_uri": "https://localhost:8080/",
          "height": 51
        }
      },
      "source": [
        "n = int(input(\"Enter number: \"))\n",
        "if n % 2 == 0:\n",
        "  print(\"{0} is even\".format(n))\n",
        "else:\n",
        "  print(\"{0} is odd\".format(n))\n"
      ],
      "execution_count": 0,
      "outputs": [
        {
          "output_type": "stream",
          "text": [
            "Enter number: 33\n",
            "33 is odd\n"
          ],
          "name": "stdout"
        }
      ]
    },
    {
      "cell_type": "markdown",
      "metadata": {
        "id": "7Ui5CuS_9Za1",
        "colab_type": "text"
      },
      "source": [
        "**Q2. (Validate triangles and compute perimeter)**\n",
        "\n",
        "Write a program that reads three edges for a triangle and determines whether the input is valid. The input is valid if the sum of any two edges is greater than the third edge. The program will compute the perimeter of the triangle if the input is valid. Otherwise, display that the input is invalid. \n",
        "\n",
        "Sample interaction:\n",
        "```\n",
        "Enter side 1: 2\n",
        "Enter side 2: 2\n",
        "Enter side 3: 1\n",
        "Perimeter = 5\n",
        "\n",
        "Enter side 1: 1\n",
        "Enter side 2: 2\n",
        "Enter side 3: 1\n",
        "Invalid triangle!\n",
        "\n",
        "```\n",
        "\n",
        "\n"
      ]
    },
    {
      "cell_type": "code",
      "metadata": {
        "id": "CfkRAAWV9cXS",
        "colab_type": "code",
        "outputId": "e44b7ef1-262e-4f07-a4cf-08877a99da6c",
        "colab": {
          "base_uri": "https://localhost:8080/",
          "height": 85
        }
      },
      "source": [
        "s1 = int(input(\"Enter side 1: \"))\n",
        "s2 = int(input(\"Enter side 2: \"))\n",
        "s3 = int(input(\"Enter side 3: \"))\n",
        "if (s1 + s2) > s3 and (s1 + s3) > s2 and (s2 + s3) > s1:\n",
        "  print(\"Perimeter = {0}\".format(s1 + s2 + s3))\n",
        "else:\n",
        "  print(\"Invalid triangle!\")"
      ],
      "execution_count": 0,
      "outputs": [
        {
          "output_type": "stream",
          "text": [
            "Enter side 1: 2\n",
            "Enter side 2: 2\n",
            "Enter side 3: 3\n",
            "Perimeter = 7\n"
          ],
          "name": "stdout"
        }
      ]
    },
    {
      "cell_type": "markdown",
      "metadata": {
        "id": "aVhHiT8w9c7d",
        "colab_type": "text"
      },
      "source": [
        "**Q3. (Determine grade)**\n",
        "\n",
        "Write a program that prompts the user to enter a score between 0 and 100 inclusive and output the corresponding grade as well as a Pass/Fail status. Output an error message if the entered score in not within the valid range. The grading system is as follows (S and U are not passes):\n",
        "\n",
        "A: 70 - 100  \n",
        "B: 60 - 69  \n",
        "C: 55 - 59  \n",
        "D: 50 - 54  \n",
        "E: 45 - 49  \n",
        "S: 35 - 44  \n",
        "U: 0 - 34\n",
        "\n",
        "Sample interaction:\n",
        "```\n",
        "Enter score: 73\n",
        "A\n",
        "Pass\n",
        "\n",
        "Enter score: 37\n",
        "S\n",
        "Fail\n",
        "\n",
        "Enter Score: -1\n",
        "Invalid! Score must be within 0 - 100.\n",
        "\n",
        "```"
      ]
    },
    {
      "cell_type": "code",
      "metadata": {
        "id": "PwRmweEa9fny",
        "colab_type": "code",
        "outputId": "c85eb6a9-f5e8-4caf-be4f-fa071d9c1276",
        "colab": {
          "base_uri": "https://localhost:8080/",
          "height": 51
        }
      },
      "source": [
        "score = int(input(\"Enter score(0-100): \"))\n",
        "\n",
        "if 0 <= score <= 100:\n",
        "  if 70 <= score <= 100:\n",
        "    print(\"A\")\n",
        "  elif 60 <= score <= 69:\n",
        "    print(\"B\")\n",
        "  elif 55 <= score <= 59:\n",
        "    print(\"C\")\n",
        "  elif 50 <= score <= 54:\n",
        "    print(\"D\")\n",
        "  elif 45 <= score <= 49:\n",
        "    print(\"E\")\n",
        "  elif 35 <= score <= 44:\n",
        "    print(\"S\")\n",
        "  else:\n",
        "    print(\"U\")\n",
        "  if 45 <= score <= 100:\n",
        "    print(\"Pass\")\n",
        "  else:\n",
        "    print(\"Fail\")\n",
        "else:\n",
        "  print(\"Invalid! Score must be within 0 - 100.\")\n"
      ],
      "execution_count": 0,
      "outputs": [
        {
          "output_type": "stream",
          "text": [
            "Enter score(0-100): -100\n",
            "Invalid! Score must be within 0 - 100.\n"
          ],
          "name": "stdout"
        }
      ]
    },
    {
      "cell_type": "markdown",
      "metadata": {
        "id": "GwAIqQNY9gFd",
        "colab_type": "text"
      },
      "source": [
        "**Q4. (Determine leap year)**\n",
        "\n",
        "Write a program that prompts the user to enter a year and determines whether it is a leap year. A year is a leap year if it is divisible by 4 but not 100, or is divisible by 400. \n",
        "\n",
        "Sample interaction:\n",
        "```\n",
        "Enter year: 2020\n",
        "Leap\n",
        "\n",
        "Enter year: 2019\n",
        "Non-Leap\n",
        "```"
      ]
    },
    {
      "cell_type": "code",
      "metadata": {
        "id": "aOozTwoR9j9B",
        "colab_type": "code",
        "outputId": "70818481-c17f-499f-985e-b3b6ecf7fe64",
        "colab": {
          "base_uri": "https://localhost:8080/",
          "height": 51
        }
      },
      "source": [
        "n = int(input(\"Enter year: \"))\n",
        "if (n % 4 == 0) and (n % 100 != 0 or n % 400 == 0):\n",
        "  print(\"Leap\")\n",
        "else:\n",
        "  print(\"Non-Leap\")"
      ],
      "execution_count": 0,
      "outputs": [
        {
          "output_type": "stream",
          "text": [
            "Enter year: 2400\n",
            "Leap\n"
          ],
          "name": "stdout"
        }
      ]
    },
    {
      "cell_type": "markdown",
      "metadata": {
        "id": "lE0ScX9e9kcg",
        "colab_type": "text"
      },
      "source": [
        "**Q5. (Find number of days in a month)**\n",
        "\n",
        "Write a program that prompts the user to enter the month and year, and displays the number of days in the month. Sample interaction:\n",
        "```\n",
        "Enter month: 2\n",
        "Enter year: 2020\n",
        "February 2020 has 29 days.\n",
        "\n",
        "Enter month: 3\n",
        "Enter year: 2021\n",
        "March 2021 has 31 days.\n",
        "\n",
        "```"
      ]
    },
    {
      "cell_type": "code",
      "metadata": {
        "id": "sE_bxwDs9mf6",
        "colab_type": "code",
        "outputId": "b0bb1b61-e50d-447b-8d1a-9e53f01d806d",
        "colab": {
          "base_uri": "https://localhost:8080/",
          "height": 68
        }
      },
      "source": [
        "m = int(input(\"Enter month: \"))\n",
        "y = int(input(\"Enter year: \"))\n",
        "\n",
        "months = [\"\", \"January\", \"Febuary\", \"March\", \"April\", \"May\", \"June\", \"July\", \"August\", \"September\", \"October\", \"November\", \"December\"]\n",
        "if m == 1 or m == 3 or m == 5 or m == 7 or m == 8 or m == 10 or m == 12:\n",
        "  print(\"{0} {1} has 31 days.\".format(months[m], y))\n",
        "elif m == 4 or m == 6 or m == 9 or m == 11:\n",
        "  print(\"{0} {1} has 30 days\".format(months[m], y))\n",
        "elif m == 2:\n",
        "  if (y % 4 == 0) and (y % 100 != 0 or y % 400 == 0):\n",
        "    print(\"Febuary {0} has 29 days.\".format(y))\n",
        "  else:\n",
        "    print(\"Febuary {0} has 28 days.\".format(y)) \n",
        "\n"
      ],
      "execution_count": 0,
      "outputs": [
        {
          "output_type": "stream",
          "text": [
            "Enter month: 4\n",
            "Enter year: 2000\n",
            "April 2000 has 30 days\n"
          ],
          "name": "stdout"
        }
      ]
    },
    {
      "cell_type": "markdown",
      "metadata": {
        "id": "KSviQY0T9m7Q",
        "colab_type": "text"
      },
      "source": [
        "**Q6. (Convert from kilograms to pounds)**\n",
        "\n",
        "Write a program that displays the following table (1 kilogram = 2.2 pounds):\n",
        "```\n",
        "Kilograms Pounds\n",
        "1         2.2\n",
        "2         4.4\n",
        "3         6.6\n",
        "...\n",
        "9         19.8\n",
        "10        22.0\n",
        "```"
      ]
    },
    {
      "cell_type": "code",
      "metadata": {
        "id": "YbH9Pbul9rK-",
        "colab_type": "code",
        "outputId": "7917ed0a-7229-4fba-af39-dc6cc1469500",
        "colab": {
          "base_uri": "https://localhost:8080/",
          "height": 204
        }
      },
      "source": [
        "print(\"Kilograms\", \"Pounds\")\n",
        "for i in range(1,11):\n",
        "  print(i, \"{0:.1f}\".format(i * 2.2), sep=((10 - len(str(i)))*\" \"))"
      ],
      "execution_count": 0,
      "outputs": [
        {
          "output_type": "stream",
          "text": [
            "Kilograms Pounds\n",
            "1         2.2\n",
            "2         4.4\n",
            "3         6.6\n",
            "4         8.8\n",
            "5         11.0\n",
            "6         13.2\n",
            "7         15.4\n",
            "8         17.6\n",
            "9         19.8\n",
            "10        22.0\n"
          ],
          "name": "stdout"
        }
      ]
    },
    {
      "cell_type": "markdown",
      "metadata": {
        "id": "V9Z95nlg97e4",
        "colab_type": "text"
      },
      "source": [
        "**Q7. (Convert from miles to kilometres)**\n",
        "\n",
        "Write a program that displays the following two tables side-by-side (1 mile = 1.609 kilometres):\n",
        "```\n",
        "Miles\tKilometers\tKilometres\tMiles\n",
        "1    \t1.609     \t20        \t12.430\n",
        "2    \t3.218     \t25        \t15.538\n",
        "\n",
        "...\n",
        "9    \t14.481    \t60        \t37.290\n",
        "10   \t16.090    \t65        \t40.398\n",
        "```\n",
        "\n"
      ]
    },
    {
      "cell_type": "code",
      "metadata": {
        "id": "1AZvvAW499PK",
        "colab_type": "code",
        "outputId": "266ad180-bdd0-4875-8491-a6538b1c2490",
        "colab": {
          "base_uri": "https://localhost:8080/",
          "height": 204
        }
      },
      "source": [
        "print(\"Miles\", \"Kilometers\", \"Kilometres\", \"Miles\", sep=4 * \" \")\n",
        "for i in range(1, 11):\n",
        "  x = 15 + (i * 5)\n",
        "  print(\"{:<8}\".format(i), \"{:<13}\".format(\"{0:.3f}\".format((i * 1.609))), \"{:<13}\".format(x), \"{:<20}\".format(\"{0:.3f}\".format(x / 1.609)))\n"
      ],
      "execution_count": 0,
      "outputs": [
        {
          "output_type": "stream",
          "text": [
            "Miles    Kilometers    Kilometres    Miles\n",
            "1        1.609         20            12.430              \n",
            "2        3.218         25            15.538              \n",
            "3        4.827         30            18.645              \n",
            "4        6.436         35            21.753              \n",
            "5        8.045         40            24.860              \n",
            "6        9.654         45            27.968              \n",
            "7        11.263        50            31.075              \n",
            "8        12.872        55            34.183              \n",
            "9        14.481        60            37.290              \n",
            "10       16.090        65            40.398              \n"
          ],
          "name": "stdout"
        }
      ]
    },
    {
      "cell_type": "markdown",
      "metadata": {
        "colab_type": "text",
        "id": "79toYNfyD9XP"
      },
      "source": [
        "**Q8. (Find two highest scores)**\n",
        "\n",
        "Write a program that prompts the user to enter the number of students and each student's name and score, and finally displays the student with the highest score and the student with the second-highest score. Enter up to 5 student records.\n",
        "\n"
      ]
    },
    {
      "cell_type": "code",
      "metadata": {
        "id": "Se5J95IjC9bT",
        "colab_type": "code",
        "outputId": "54df7bdb-008c-4d8d-e2df-466b610cd4bd",
        "colab": {
          "base_uri": "https://localhost:8080/",
          "height": 187
        }
      },
      "source": [
        "n = int(input())\n",
        "list1 = []\n",
        "list2 = []\n",
        "if 1 <= n <= 5:\n",
        "  for i in range(n):\n",
        "    name = input(\"Enter name: \")\n",
        "    score = int(input(\"Enter score: \"))\n",
        "    list1.append(name)\n",
        "    list2.append(score)\n",
        "\n",
        "list2, list1 = zip(*sorted(zip(list2, list1)))\n",
        "print(\"The highest scoring student is {0} and the second highest scoring student is {1}.\".format(list1[-1], list1[n-2]))\n"
      ],
      "execution_count": 0,
      "outputs": [
        {
          "output_type": "stream",
          "text": [
            "4\n",
            "Enter name: t\n",
            "Enter score: 9000\n",
            "Enter name: yoo\n",
            "Enter score: 30\n",
            "Enter name: john\n",
            "Enter score: 50\n",
            "Enter name: evan\n",
            "Enter score: 300\n",
            "The highest scoring student is t and the second highest scoring student is evan\n"
          ],
          "name": "stdout"
        }
      ]
    },
    {
      "cell_type": "markdown",
      "metadata": {
        "id": "seLRswd3ED9x",
        "colab_type": "text"
      },
      "source": [
        "**Q9. (Finding the smallest n such that n<sup>2</sup> > 12000)**\n",
        "\n",
        "Use a while loop to find the smallest integer n such that n<sup>2</sup> is greater than 12,000. "
      ]
    },
    {
      "cell_type": "code",
      "metadata": {
        "id": "n_1AS9EREHgQ",
        "colab_type": "code",
        "colab": {
          "base_uri": "https://localhost:8080/",
          "height": 231
        },
        "outputId": "dbc256a4-f07b-45a6-c2c7-9043ca7ebba0"
      },
      "source": [
        "n = 1\n",
        "while n ** 2 <= 12000:\n",
        "  n += 1\n",
        "\n",
        "print(n) "
      ],
      "execution_count": 111,
      "outputs": [
        {
          "output_type": "error",
          "ename": "KeyboardInterrupt",
          "evalue": "ignored",
          "traceback": [
            "\u001b[0;31m---------------------------------------------------------------------------\u001b[0m",
            "\u001b[0;31mKeyboardInterrupt\u001b[0m                         Traceback (most recent call last)",
            "\u001b[0;32m<ipython-input-111-e021fb298954>\u001b[0m in \u001b[0;36m<module>\u001b[0;34m()\u001b[0m\n\u001b[1;32m      1\u001b[0m \u001b[0mn\u001b[0m \u001b[0;34m=\u001b[0m \u001b[0;36m1\u001b[0m\u001b[0;34m\u001b[0m\u001b[0;34m\u001b[0m\u001b[0m\n\u001b[0;32m----> 2\u001b[0;31m \u001b[0;32mwhile\u001b[0m \u001b[0mn\u001b[0m \u001b[0;34m**\u001b[0m \u001b[0;36m2\u001b[0m \u001b[0;34m<=\u001b[0m \u001b[0;36m12000\u001b[0m\u001b[0;34m:\u001b[0m\u001b[0;34m\u001b[0m\u001b[0;34m\u001b[0m\u001b[0m\n\u001b[0m\u001b[1;32m      3\u001b[0m   \u001b[0mn\u001b[0m \u001b[0;34m+\u001b[0m \u001b[0;36m1\u001b[0m\u001b[0;34m\u001b[0m\u001b[0;34m\u001b[0m\u001b[0m\n\u001b[1;32m      4\u001b[0m \u001b[0;34m\u001b[0m\u001b[0m\n\u001b[1;32m      5\u001b[0m \u001b[0mprint\u001b[0m\u001b[0;34m(\u001b[0m\u001b[0mn\u001b[0m\u001b[0;34m)\u001b[0m\u001b[0;34m\u001b[0m\u001b[0;34m\u001b[0m\u001b[0m\n",
            "\u001b[0;31mKeyboardInterrupt\u001b[0m: "
          ]
        }
      ]
    },
    {
      "cell_type": "markdown",
      "metadata": {
        "id": "YHyv5TE6EH24",
        "colab_type": "text"
      },
      "source": [
        "**Q10. (Finding the largest n such that n<sup>3</sup> < 12000)** \n",
        "\n",
        "Use a while loop to find the largest integer n such that n<sup>3</sup> is less than 12,000."
      ]
    },
    {
      "cell_type": "code",
      "metadata": {
        "id": "B--GNWkcEKkR",
        "colab_type": "code",
        "colab": {}
      },
      "source": [
        "n = 100\n",
        "while n ** 3 <= 12000:\n",
        "  n -= 1\n",
        "\n",
        "print(n)"
      ],
      "execution_count": 0,
      "outputs": []
    },
    {
      "cell_type": "markdown",
      "metadata": {
        "id": "lr8Er0cXEKzY",
        "colab_type": "text"
      },
      "source": [
        "**Q11. (Computing the greatest common divisor)**\n",
        "\n",
        "A solution to find the greatest common divisor of two integers n1 and n2 is as follows:\n",
        "* First find d to be the minimum of n1 and n2\n",
        "* Then check whether d, d-1, … d-2, 2, or 1 is a divisor for both n1 and n2 in this order.\n",
        "* The first such common divisor is the greatest common divisor for n1 and n2. \n",
        "\n",
        "Write a program to implement this solution.  \n",
        "Sample interaction:\n",
        "```\n",
        "Enter n1: 12\n",
        "Enter n2: 18\n",
        "GCD: 6\n",
        "```"
      ]
    },
    {
      "cell_type": "code",
      "metadata": {
        "id": "T8iKWDpgEOSw",
        "colab_type": "code",
        "colab": {
          "base_uri": "https://localhost:8080/",
          "height": 68
        },
        "outputId": "e75de4f5-9d88-417b-b4bc-05b00f90dec8"
      },
      "source": [
        "n1 = int(input(\"Enter n1: \"))\n",
        "n2 = int(input(\"Enter n2: \"))\n",
        "d = n1\n",
        "if n1 > n2:\n",
        "  d = n2\n",
        "while n1 % d != 0 or n2 % d != 0:\n",
        "  d -= 1\n",
        "\n",
        "print(\"GCD: {0}\".format(d))\n",
        "    "
      ],
      "execution_count": 117,
      "outputs": [
        {
          "output_type": "stream",
          "text": [
            "Enter n1: 12\n",
            "Enter n2: 18\n",
            "GCD: 6\n"
          ],
          "name": "stdout"
        }
      ]
    },
    {
      "cell_type": "code",
      "metadata": {
        "id": "KA4je5pwrcRL",
        "colab_type": "code",
        "colab": {
          "base_uri": "https://localhost:8080/",
          "height": 129
        },
        "outputId": "c2b74848-d695-47d7-8463-0eaedd7c9c9c"
      },
      "source": [
        "n1 = int(input(\"Enter n1: \"))\n",
        "n2 = int(input(\"Enter n2: \"))\n",
        "d = n1\n",
        "if n1 > n2:\n",
        "  d = n2\n",
        "while not(n1 % d == 0 and n2 % d == 0):\n",
        "  d -= 1\n",
        "print(d)"
      ],
      "execution_count": 119,
      "outputs": [
        {
          "output_type": "error",
          "ename": "SyntaxError",
          "evalue": "ignored",
          "traceback": [
            "\u001b[0;36m  File \u001b[0;32m\"<ipython-input-119-2183aaabf7e7>\"\u001b[0;36m, line \u001b[0;32m6\u001b[0m\n\u001b[0;31m    while !(n1 % d == 0 and n2 % d == 0):\u001b[0m\n\u001b[0m          ^\u001b[0m\n\u001b[0;31mSyntaxError\u001b[0m\u001b[0;31m:\u001b[0m invalid syntax\n"
          ]
        }
      ]
    },
    {
      "cell_type": "code",
      "metadata": {
        "id": "TdwPD93SrxDb",
        "colab_type": "code",
        "colab": {
          "base_uri": "https://localhost:8080/",
          "height": 68
        },
        "outputId": "dd685122-bd5e-47a1-9c2b-5cde3ec53fc0"
      },
      "source": [
        "n1 = int(input(\"Enter n1: \"))\n",
        "n2 = int(input(\"Enter n2: \"))\n",
        "d = n1\n",
        "if n1 > n2:\n",
        "  d = n2\n",
        "while True:\n",
        "  if n1 % d == 0 and n2 % d == 0:\n",
        "    break\n",
        "  else:\n",
        "    d -= 1\n",
        "print(d)"
      ],
      "execution_count": 120,
      "outputs": [
        {
          "output_type": "stream",
          "text": [
            "Enter n1: 12\n",
            "Enter n2: 18\n",
            "6\n"
          ],
          "name": "stdout"
        }
      ]
    },
    {
      "cell_type": "markdown",
      "metadata": {
        "id": "-kojjY6zEOkn",
        "colab_type": "text"
      },
      "source": [
        "**Q12. (Find factors of a positive integer)**\n",
        "\n",
        "Write a program that reads a positive integer > 1 and displays all its factors.   \n",
        "Sample interaction:\n",
        "```\n",
        "Enter n: 120\n",
        "Factors: 2 2 2 3 5 \n",
        "```"
      ]
    },
    {
      "cell_type": "code",
      "metadata": {
        "id": "s3hoL9l5EPjU",
        "colab_type": "code",
        "colab": {
          "base_uri": "https://localhost:8080/",
          "height": 51
        },
        "outputId": "8e1a4fa2-cc7d-4993-f10d-0dcb486b709f"
      },
      "source": [
        "n = int(input(\"Enter n: \"))\n",
        "Factors = []\n",
        "if n > 1:\n",
        "  d = 2\n",
        "  while n >= d:\n",
        "    if n % d == 0:\n",
        "      n /= d\n",
        "      Factors.append(d)\n",
        "    else:\n",
        "      d += 1\n",
        "print(\"Factors:\", \" \".join(str(i) for i in Factors))"
      ],
      "execution_count": 127,
      "outputs": [
        {
          "output_type": "stream",
          "text": [
            "Enter n: 120\n",
            "Factors: 2 2 2 3 5\n"
          ],
          "name": "stdout"
        }
      ]
    }
  ]
}