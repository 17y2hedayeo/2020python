{
  "nbformat": 4,
  "nbformat_minor": 0,
  "metadata": {
    "colab": {
      "name": " 2020 Python Programming Practical 3.ipynb",
      "provenance": [],
      "collapsed_sections": [],
      "include_colab_link": true
    },
    "kernelspec": {
      "name": "python3",
      "display_name": "Python 3"
    }
  },
  "cells": [
    {
      "cell_type": "markdown",
      "metadata": {
        "id": "view-in-github",
        "colab_type": "text"
      },
      "source": [
        "<a href=\"https://colab.research.google.com/github/killuen/2020python/blob/master/2020_Python_Programming_Practical_3.ipynb\" target=\"_parent\"><img src=\"https://colab.research.google.com/assets/colab-badge.svg\" alt=\"Open In Colab\"/></a>"
      ]
    },
    {
      "cell_type": "markdown",
      "metadata": {
        "id": "jp3BkDml8xiR",
        "colab_type": "text"
      },
      "source": [
        "# **2020 Python Programming Practical 3**\n",
        "\n",
        "If you do not have one already, create a [GitHub](https://github.com) account using your DHS Mail.\n",
        "\n",
        "Create a public repository 2020python\n",
        "\n",
        "File --> Save a copy in GitHub under your 2020python repository\n",
        "\n",
        "Also share this colab file with edit access with computing@dhs.sg\n",
        "\n"
      ]
    },
    {
      "cell_type": "markdown",
      "metadata": {
        "id": "-U8w0oQW9P_b",
        "colab_type": "text"
      },
      "source": [
        "**Q1. (Displaying an integer reversed)**\n",
        "\n",
        "Write a function reverse_int(n) to display an integer in reverse order:\n",
        "\n",
        "For example, reverse_int(3456) displays 6543."
      ]
    },
    {
      "cell_type": "code",
      "metadata": {
        "id": "D0uTR7B-8qbF",
        "colab_type": "code",
        "outputId": "47cb711c-84d0-4fc0-fc27-45546b4db915",
        "colab": {
          "base_uri": "https://localhost:8080/",
          "height": 35
        }
      },
      "source": [
        "def reverse_int(n):\n",
        "  strn = str(n)\n",
        "  nn = \"\"\n",
        "  for i in range(len(strn)-1,-1,-1):\n",
        "    nn += strn[i]\n",
        "  return int(nn)\n",
        "\n",
        "# main\n",
        "reverse_int(3456)"
      ],
      "execution_count": 0,
      "outputs": [
        {
          "output_type": "execute_result",
          "data": {
            "text/plain": [
              "6543"
            ]
          },
          "metadata": {
            "tags": []
          },
          "execution_count": 5
        }
      ]
    },
    {
      "cell_type": "code",
      "metadata": {
        "id": "DJxwNcU6qCq3",
        "colab_type": "code",
        "outputId": "8120a0c3-bbd2-4ba5-c8bb-19651fcbc234",
        "colab": {
          "base_uri": "https://localhost:8080/",
          "height": 35
        }
      },
      "source": [
        "# if can only use numbers, try % 10, den try n find digits 1 by 1\n",
        "def reverse_int(n):\n",
        "  r = n\n",
        "  a = 0\n",
        "  while r > 10:\n",
        "    ld = r % 10\n",
        "    a = a * 10 + ld\n",
        "    r = r // 10\n",
        "  a = a * 10 + r\n",
        "  return a\n",
        "\n",
        "# main\n",
        "reverse_int(3456)\n",
        "\n",
        "  "
      ],
      "execution_count": 64,
      "outputs": [
        {
          "output_type": "execute_result",
          "data": {
            "text/plain": [
              "6543"
            ]
          },
          "metadata": {
            "tags": []
          },
          "execution_count": 64
        }
      ]
    },
    {
      "cell_type": "markdown",
      "metadata": {
        "id": "7Ui5CuS_9Za1",
        "colab_type": "text"
      },
      "source": [
        "**Q2. (Displaying patterns)**\n",
        "\n",
        "Write a function display_pattern(n) to display a pattern as follows:\n",
        "```\n",
        "              1\n",
        "            2 1\n",
        "          3 2 1\n",
        "...\n",
        "n n-1 ... 3 2 1 \n",
        "```\n",
        "\n",
        "\n"
      ]
    },
    {
      "cell_type": "code",
      "metadata": {
        "id": "CfkRAAWV9cXS",
        "colab_type": "code",
        "outputId": "03126861-1623-4dd9-e676-f780114e2e4c",
        "colab": {
          "base_uri": "https://localhost:8080/",
          "height": 104
        }
      },
      "source": [
        "def display_pattern(n):\n",
        "  for row in range(n):\n",
        "    print(' ' * (n-row-1), end='') # spaces\n",
        "    for num in range(row+1): # digits\n",
        "      print(num+1, end ='')\n",
        "    print()\n",
        "\n",
        "# main\n",
        "display_pattern(5)"
      ],
      "execution_count": 0,
      "outputs": [
        {
          "output_type": "stream",
          "text": [
            "    1\n",
            "   12\n",
            "  123\n",
            " 1234\n",
            "12345\n"
          ],
          "name": "stdout"
        }
      ]
    },
    {
      "cell_type": "markdown",
      "metadata": {
        "id": "aVhHiT8w9c7d",
        "colab_type": "text"
      },
      "source": [
        "**Q3. (Computing GCD)**\n",
        "\n",
        "Write a function gcd(m, n) that returns the greatest common divisor between two positive integers:\n",
        "\n",
        "Test your program with gcd(24, 16) and gcd(255, 25)."
      ]
    },
    {
      "cell_type": "code",
      "metadata": {
        "id": "PwRmweEa9fny",
        "colab_type": "code",
        "outputId": "d3a45c19-b57e-45b7-a552-6d7dbf1ecb5c",
        "colab": {
          "base_uri": "https://localhost:8080/",
          "height": 52
        }
      },
      "source": [
        "def gcd(m,n):\n",
        "  if m > n:\n",
        "    for i in range(n, 0, -1):\n",
        "      if m % i == 0 and n % i == 0:\n",
        "        return i\n",
        "  else:\n",
        "    for i in range(m, 0, -1):\n",
        "      if n % i == 0 and n % i == 0:\n",
        "        return i\n",
        "\n",
        "\n",
        "\n",
        "# main\n",
        "print(gcd(24,16)) # should rt 8\n",
        "print(gcd(255, 25)) # shld rt 5 "
      ],
      "execution_count": 0,
      "outputs": [
        {
          "output_type": "stream",
          "text": [
            "8\n",
            "5\n"
          ],
          "name": "stdout"
        }
      ]
    },
    {
      "cell_type": "code",
      "metadata": {
        "id": "nZtmiEvEuNm6",
        "colab_type": "code",
        "outputId": "c633842f-6bba-441f-da70-92223ded5412",
        "colab": {
          "base_uri": "https://localhost:8080/",
          "height": 52
        }
      },
      "source": [
        "# teachers ans\n",
        "def gcd(m, n): # assume m>= n else swap\n",
        "  for i in range(1, n+1):\n",
        "    if (m % i == 0) and (n % i == 0):\n",
        "      result = i\n",
        "  return result\n",
        "\n",
        "# main\n",
        "print(gcd(16, 24))\n",
        "print(gcd(25, 255))"
      ],
      "execution_count": 0,
      "outputs": [
        {
          "output_type": "stream",
          "text": [
            "8\n",
            "5\n"
          ],
          "name": "stdout"
        }
      ]
    },
    {
      "cell_type": "markdown",
      "metadata": {
        "colab_type": "text",
        "id": "wWe4kRS8ZmwP"
      },
      "source": [
        "**Q4. (Summing series)**\n",
        "\n",
        "Write a function m_series(i) to compute the following series:\n",
        "\n",
        "m(i) = ½ + ⅔ + … + i/(i+1)\n",
        "\n",
        "Generate the following table:\n",
        "```\n",
        "i         m(i)     \n",
        "1         0.5000   \n",
        "2         1.1667   \n",
        "... \n",
        "19        16.4023  \n",
        "20        17.3546  \n",
        "```"
      ]
    },
    {
      "cell_type": "code",
      "metadata": {
        "id": "aOozTwoR9j9B",
        "colab_type": "code",
        "outputId": "afd1299d-a18a-488c-b0da-5eb4e745a532",
        "colab": {
          "base_uri": "https://localhost:8080/",
          "height": 399
        }
      },
      "source": [
        "def m_series(i): \n",
        "  print(\"{:<10}\".format(i), \"m({0})\".format(i))\n",
        "  result = 0\n",
        "  for num in range(i+1):\n",
        "    result += num / (num + 1)\n",
        "    print(\"{:<10}\".format(num), \"{:.4f}\".format(result))\n",
        "\n",
        "# main\n",
        "m_series(20)"
      ],
      "execution_count": 65,
      "outputs": [
        {
          "output_type": "stream",
          "text": [
            "20         m(20)\n",
            "0          0.0000\n",
            "1          0.5000\n",
            "2          1.1667\n",
            "3          1.9167\n",
            "4          2.7167\n",
            "5          3.5500\n",
            "6          4.4071\n",
            "7          5.2821\n",
            "8          6.1710\n",
            "9          7.0710\n",
            "10         7.9801\n",
            "11         8.8968\n",
            "12         9.8199\n",
            "13         10.7484\n",
            "14         11.6818\n",
            "15         12.6193\n",
            "16         13.5604\n",
            "17         14.5049\n",
            "18         15.4523\n",
            "19         16.4023\n",
            "20         17.3546\n"
          ],
          "name": "stdout"
        }
      ]
    },
    {
      "cell_type": "markdown",
      "metadata": {
        "id": "lE0ScX9e9kcg",
        "colab_type": "text"
      },
      "source": [
        "**Q5. (Prime number)**\n",
        "\n",
        "Write a function to determine whether an integer is a prime number. An integer greater than 1 is a prime number if its only divisor is 1 or itself. For example, is_prime(11) returns True, and is_prime(9) returns False.\n",
        "\n",
        "Use the is_prime(n) function to find the first thousand prime numbers and display every ten prime numbers in a row, as follows:\n",
        "```\n",
        "2   3   5   7   11   13   17   19   23   29\n",
        "31  37  41  43  47   53   59   61   67   71\n",
        "73  79  83  89  97  ...\n",
        "...\n",
        "```"
      ]
    },
    {
      "cell_type": "code",
      "metadata": {
        "id": "sE_bxwDs9mf6",
        "colab_type": "code",
        "outputId": "7e61e331-ee37-4bd8-c3fc-5b7f0b238e58",
        "colab": {
          "base_uri": "https://localhost:8080/",
          "height": 104
        }
      },
      "source": [
        "import math\n",
        "\n",
        "def is_prime(n):\n",
        "  if n == 2:\n",
        "    return True\n",
        "  elif n % 2 == 0: # all even numbers not prime\n",
        "    return False\n",
        "  else: # test only odd numbers\n",
        "    for i in range(3, int(math.sqrt(n))+1, 2): # only have to test until sq rt\n",
        "      if n % i == 0:\n",
        "        return False\n",
        "    return True\n",
        "\n",
        "\n",
        "\n",
        "# main\n",
        "print(is_prime(2))\n",
        "print(is_prime(3))\n",
        "print(is_prime(13))\n",
        "print(is_prime(35))\n",
        "print(is_prime(88))"
      ],
      "execution_count": 0,
      "outputs": [
        {
          "output_type": "stream",
          "text": [
            "True\n",
            "True\n",
            "True\n",
            "False\n",
            "True\n"
          ],
          "name": "stdout"
        }
      ]
    },
    {
      "cell_type": "markdown",
      "metadata": {
        "id": "KSviQY0T9m7Q",
        "colab_type": "text"
      },
      "source": [
        "**Q6. (Convert from kilograms to pounds)**\n",
        "\n",
        "Write a function print_matrix(n) that displays an n by n matrix, where n is a positive integer entered by the user. Each element is 0 or 1, which is generated randomly. A 3 by 3 matrix may look like this:\n",
        "```\n",
        "0 1 0\n",
        "0 0 0\n",
        "1 1 1 \n",
        "```"
      ]
    },
    {
      "cell_type": "code",
      "metadata": {
        "id": "YbH9Pbul9rK-",
        "colab_type": "code",
        "outputId": "2f2bd06f-b146-4e02-ca5a-79f75970dd04",
        "colab": {
          "base_uri": "https://localhost:8080/",
          "height": 69
        }
      },
      "source": [
        "from random import randint\n",
        "\n",
        "def print_matrix(n):\n",
        "  for x in range(n):\n",
        "    for y in range(n):\n",
        "      print(randint(0,1), end = \" \")\n",
        "    print()\n",
        " \n",
        "\n",
        "print_matrix(3)"
      ],
      "execution_count": 60,
      "outputs": [
        {
          "output_type": "stream",
          "text": [
            "1 1 0 \n",
            "0 1 1 \n",
            "1 1 0 \n"
          ],
          "name": "stdout"
        }
      ]
    },
    {
      "cell_type": "markdown",
      "metadata": {
        "id": "V9Z95nlg97e4",
        "colab_type": "text"
      },
      "source": [
        "**Q7. (Converting milliseconds to hours, minutes, and seconds)**\n",
        "\n",
        "Write a method convert_ms(n) that converts milliseconds to hours, minutes, and seconds. The method returns a string as hours:minutes:seconds. For example, convert_ms(5500) returns a string 0:0:5, convert_ms(100000) returns a string 0:1:40, and convert_ms(555550000) returns a string 154:19:10.\n",
        "\n"
      ]
    },
    {
      "cell_type": "code",
      "metadata": {
        "id": "1AZvvAW499PK",
        "colab_type": "code",
        "outputId": "efd48d0d-16ed-478f-9f22-4f6313886e29",
        "colab": {
          "base_uri": "https://localhost:8080/",
          "height": 35
        }
      },
      "source": [
        "def convert_ms(n):\n",
        "  h = n // 3600000\n",
        "  m = (n - (h * 3600000)) // 60000\n",
        "  s = (n - (h * 3600000) - (m * 60000)) // 1000\n",
        "  print(\"{0}:{1}:{2}\".format(h, m, s))\n",
        "\n",
        "# main\n",
        "convert_ms(555550000)"
      ],
      "execution_count": 0,
      "outputs": [
        {
          "output_type": "stream",
          "text": [
            "154:19:10\n"
          ],
          "name": "stdout"
        }
      ]
    },
    {
      "cell_type": "code",
      "metadata": {
        "id": "KVBsfJTtMClx",
        "colab_type": "code",
        "colab": {}
      },
      "source": [
        ""
      ],
      "execution_count": 0,
      "outputs": []
    }
  ]
}