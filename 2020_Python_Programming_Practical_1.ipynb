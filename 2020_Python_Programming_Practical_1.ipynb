{
  "nbformat": 4,
  "nbformat_minor": 0,
  "metadata": {
    "colab": {
      "name": "2020 Python Programming Practical 1.ipynb",
      "provenance": [],
      "collapsed_sections": [],
      "include_colab_link": true
    },
    "kernelspec": {
      "name": "python3",
      "display_name": "Python 3"
    }
  },
  "cells": [
    {
      "cell_type": "markdown",
      "metadata": {
        "id": "view-in-github",
        "colab_type": "text"
      },
      "source": [
        "<a href=\"https://colab.research.google.com/github/17y2hedayeo/2020python/blob/master/2020_Python_Programming_Practical_1.ipynb\" target=\"_parent\"><img src=\"https://colab.research.google.com/assets/colab-badge.svg\" alt=\"Open In Colab\"/></a>"
      ]
    },
    {
      "cell_type": "markdown",
      "metadata": {
        "id": "jp3BkDml8xiR",
        "colab_type": "text"
      },
      "source": [
        "# **2020 Python Programming Practical 1**\n",
        "\n",
        "If you do not have one already, create a [GitHub](https://github.com) account using your DHS Mail.\n",
        "\n",
        "Create a public repository 2020python\n",
        "\n",
        "File --> Save a copy in GitHub under this repository\n",
        "\n",
        "Share with edit access with computing@dhs.sg\n",
        "\n",
        "\n",
        "For the following questions,\n",
        "\n",
        "*   standard input: keyboard\n",
        "*   standard output: screen\n",
        "\n"
      ]
    },
    {
      "cell_type": "markdown",
      "metadata": {
        "id": "-U8w0oQW9P_b",
        "colab_type": "text"
      },
      "source": [
        "**Q1. (Converting Fahrenheit to Celsius)**\n",
        "\n",
        "Write a program that reads a Fahrenheit degree as a float from standard input, then converts it to Celsius and displays the result in standard output. The formula for the conversion is:\n",
        "```\n",
        "celsius = (5/9) * (fahrenheit - 32)\n",
        "```"
      ]
    },
    {
      "cell_type": "code",
      "metadata": {
        "id": "D0uTR7B-8qbF",
        "colab_type": "code",
        "colab": {
          "base_uri": "https://localhost:8080/",
          "height": 51
        },
        "outputId": "5198358f-b636-42a6-f349-c95491a5d1ad"
      },
      "source": [
        "farenheit = float(input(\"Key in a temperature in F: \"))\n",
        "celcius = (5/9) * (farenheit - 32)\n",
        "print(f\"{celcius:.1f}\")"
      ],
      "execution_count": 4,
      "outputs": [
        {
          "output_type": "stream",
          "text": [
            "Key in a temperature in F: 50.0\n",
            "10.00\n"
          ],
          "name": "stdout"
        }
      ]
    },
    {
      "cell_type": "markdown",
      "metadata": {
        "id": "7Ui5CuS_9Za1",
        "colab_type": "text"
      },
      "source": [
        "**Q2. (Computing the volume of a cylinder)**\n",
        "\n",
        "Write a program that reads in the radius and length of a cylinder and computes its volume using the formulae:\n",
        "```\n",
        "area = radius * radius * pi\n",
        "volume = area * length\n",
        "```\n",
        "\n",
        "\n"
      ]
    },
    {
      "cell_type": "code",
      "metadata": {
        "id": "CfkRAAWV9cXS",
        "colab_type": "code",
        "colab": {
          "base_uri": "https://localhost:8080/",
          "height": 68
        },
        "outputId": "e07e8e6e-6cda-42c1-a6db-3427a886d983"
      },
      "source": [
        "import math\n",
        "\n",
        "radius = float(input(\"Enter radius: \"))\n",
        "length = float(input(\"Enter length: \"))\n",
        "area = radius ** 2 * math.pi\n",
        "vol = area * length\n",
        "print(f\"{vol:.1f}\")"
      ],
      "execution_count": 7,
      "outputs": [
        {
          "output_type": "stream",
          "text": [
            "Enter radius: 90\n",
            "Enter length: 80.9\n",
            "2058654.2\n"
          ],
          "name": "stdout"
        }
      ]
    },
    {
      "cell_type": "markdown",
      "metadata": {
        "id": "aVhHiT8w9c7d",
        "colab_type": "text"
      },
      "source": [
        "**Q3. (Converting miles into kilometers)**\n",
        "\n",
        "Write a program that reads a number in miles, converts it to kilometres, and outputs the result. One mile is 1.60934 kilometres. Display your answer correct to 3 decimal places."
      ]
    },
    {
      "cell_type": "code",
      "metadata": {
        "id": "PwRmweEa9fny",
        "colab_type": "code",
        "colab": {
          "base_uri": "https://localhost:8080/",
          "height": 51
        },
        "outputId": "81432e49-c304-46d2-a1bd-31204e580aed"
      },
      "source": [
        "num = float(input(\"Enter miles: \"))\n",
        "kilometres = num * 1.60934\n",
        "print(f\"{kilometres:.2f}\")\n"
      ],
      "execution_count": 9,
      "outputs": [
        {
          "output_type": "stream",
          "text": [
            "Enter miles: 5.049\n",
            "8.1\n"
          ],
          "name": "stdout"
        }
      ]
    },
    {
      "cell_type": "markdown",
      "metadata": {
        "id": "GwAIqQNY9gFd",
        "colab_type": "text"
      },
      "source": [
        "**Q4. (Summing the digits in an integer)**\n",
        "\n",
        "Write a program that reads an integer between 0 and 1000 and adds all the digits in the integer. For example, if an integer is 932, the sum of all its digits is 14.\n",
        "\n",
        "Hint: Use the % operator to extract digits, and use the // operator to remove the extracted digit. For instance, 932 % 10 = 2 and 932 // 10 = 93"
      ]
    },
    {
      "cell_type": "code",
      "metadata": {
        "id": "aOozTwoR9j9B",
        "colab_type": "code",
        "colab": {}
      },
      "source": [
        "num = int(input()) for 0 <= num <= 1000\n"
      ],
      "execution_count": 0,
      "outputs": []
    },
    {
      "cell_type": "markdown",
      "metadata": {
        "id": "lE0ScX9e9kcg",
        "colab_type": "text"
      },
      "source": [
        "**Q5. (Converting an uppercase letter to lowercase)**\n",
        "\n",
        "Write a program that converts an uppercase letter from standard input to a lowercase letter by making use of its ASCII value.\n",
        "\n",
        "http://www.asciitable.com"
      ]
    },
    {
      "cell_type": "code",
      "metadata": {
        "id": "sE_bxwDs9mf6",
        "colab_type": "code",
        "colab": {
          "base_uri": "https://localhost:8080/",
          "height": 51
        },
        "outputId": "8ac018f7-1233-4ec0-c72c-185699c80595"
      },
      "source": [
        "upper = input(\"Enter uppercase letter: \")\n",
        "lower = ord(upper) + 32 #ordinal\n",
        "print(chr(lower)) "
      ],
      "execution_count": 14,
      "outputs": [
        {
          "output_type": "stream",
          "text": [
            "Enter uppercase letter: Y\n",
            "y\n"
          ],
          "name": "stdout"
        }
      ]
    },
    {
      "cell_type": "markdown",
      "metadata": {
        "id": "KSviQY0T9m7Q",
        "colab_type": "text"
      },
      "source": [
        "**Q6. (Finding the character of an ASCII code)**\n",
        "\n",
        "Write a program that receives an ASCII value (an integer between 0 and 127) and displays its character. For example, if the user enters 97, the program displays character a.\n",
        "\n",
        "http://www.asciitable.com"
      ]
    },
    {
      "cell_type": "code",
      "metadata": {
        "id": "YbH9Pbul9rK-",
        "colab_type": "code",
        "colab": {}
      },
      "source": [
        ""
      ],
      "execution_count": 0,
      "outputs": []
    },
    {
      "cell_type": "markdown",
      "metadata": {
        "id": "V9Z95nlg97e4",
        "colab_type": "text"
      },
      "source": [
        "**Q7. (Payroll)**\n",
        "\n",
        "Write a program that reads in the following information and prints a payroll statement. A sample input and output session is as follows:\n",
        "\n",
        "Sample input:\n",
        "```\n",
        "Enter name: Lim Ah Seng\n",
        "Enter number of hours worked weekly: 10\n",
        "Enter hourly pay rate: 6.75\n",
        "Enter CPF contribution rate(%): 20\n",
        "```\n",
        "\n",
        "Sample output:\n",
        "```\n",
        "Payroll statement for Lim Ah Seng\n",
        "Number of hours worked in week: 10\n",
        "Hourly pay rate: $6.75\n",
        "Gross pay = $67.50\n",
        "CPF contribution at 20% = $13.50\n",
        "Net pay = $54.00\n",
        "```\n",
        "\n"
      ]
    },
    {
      "cell_type": "code",
      "metadata": {
        "id": "1AZvvAW499PK",
        "colab_type": "code",
        "colab": {}
      },
      "source": [
        ""
      ],
      "execution_count": 0,
      "outputs": []
    }
  ]
}